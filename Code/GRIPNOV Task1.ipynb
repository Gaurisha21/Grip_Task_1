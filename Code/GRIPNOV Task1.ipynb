{
 "cells": [
  {
   "cell_type": "markdown",
   "metadata": {},
   "source": [
    "# **Title: GRIP INTERNSHIP**\n",
    "### Task: 1\n",
    "### Task Title: Object Detection\n",
    "### Intern: Gaurisha R Srivastava"
   ]
  },
  {
   "cell_type": "code",
   "execution_count": 15,
   "metadata": {},
   "outputs": [],
   "source": [
    "import cv2\n",
    "import numpy as np"
   ]
  },
  {
   "cell_type": "code",
   "execution_count": 16,
   "metadata": {},
   "outputs": [],
   "source": [
    "net = cv2.dnn.readNet(\"C:/Users/GAURISHA/Desktop/Folders folder/python_ibm_internship/darknet master/yolov3.weights\", \"C:/Users/GAURISHA/Desktop/Folders folder/python_ibm_internship/darknet master/drive-download-20200721T105331Z-001/cfg/yolov3.cfg\")\n",
    "classes = []\n",
    "with open(\"C:/Users/GAURISHA/Desktop/Folders folder/python_ibm_internship/darknet master/drive-download-20200721T105331Z-001/data/coco.names\") as f:\n",
    "    classes = [line.strip() for line in f.readlines()]\n",
    "layer_names = net.getLayerNames()\n",
    "output_layers = [layer_names[i[0] - 1] for i in net.getUnconnectedOutLayers()]\n",
    "colors = np.random.uniform(0, 255, size=(len(classes), 3))\n"
   ]
  },
  {
   "cell_type": "code",
   "execution_count": 17,
   "metadata": {},
   "outputs": [],
   "source": [
    "a=[\"cat and dog.jpg\", \"car.jpg\", \"bottle.jpg\", \"race.jpg\"]\n",
    "\n",
    "for A in a:\n",
    "    img = cv2.imread(A)\n",
    "    img = cv2.resize(img, None, fx=1, fy=1)\n",
    "    height, width, channels = img.shape\n",
    "    blob = cv2.dnn.blobFromImage(img, 0.00392, (416, 416), (0, 0, 0), True, crop=False)\n",
    "    net.setInput(blob)\n",
    "    outs = net.forward(output_layers)\n",
    "    class_ids = []\n",
    "    confidences = []\n",
    "    boxes = []\n",
    "    for out in outs:\n",
    "          for detection in out:\n",
    "                scores = detection[5:]\n",
    "                class_id = np.argmax(scores)\n",
    "                confidence = scores[class_id]\n",
    "                if confidence > 0.5:\n",
    "                      # Object detected\n",
    "                      center_x = int(detection[0] * width)\n",
    "                      center_y = int(detection[1] * height)\n",
    "                      w = int(detection[2] * width)\n",
    "                      h = int(detection[3] * height)\n",
    "                      # Rectangle coordinates\n",
    "                      x = int(center_x - w / 2)\n",
    "                      y = int(center_y - h / 2)\n",
    "                      boxes.append([x, y, w, h])\n",
    "                      confidences.append(float(confidence))\n",
    "                      class_ids.append(class_id)\n",
    "    indexes = cv2.dnn.NMSBoxes(boxes, confidences, 0.5, 0.4)\n",
    "    font = cv2.FONT_HERSHEY_PLAIN\n",
    "    for i in range(len(boxes)):\n",
    "          if i in indexes:\n",
    "                x, y, w, h = boxes[i]\n",
    "                label = str(classes[class_ids[i]])\n",
    "                color = colors[i]\n",
    "                cv2.rectangle(img, (x, y), (x + w, y + h), color, 2)\n",
    "                cv2.putText(img, label, (x, y + 30), font, 3, color, 3)\n",
    "    cv2.imshow(\"Image\", img)\n",
    "    cv2.waitKey(0)\n",
    "    cv2.destroyAllWindows()"
   ]
  },
  {
   "cell_type": "code",
   "execution_count": null,
   "metadata": {},
   "outputs": [],
   "source": []
  }
 ],
 "metadata": {
  "kernelspec": {
   "display_name": "Python 3",
   "language": "python",
   "name": "python3"
  },
  "language_info": {
   "codemirror_mode": {
    "name": "ipython",
    "version": 3
   },
   "file_extension": ".py",
   "mimetype": "text/x-python",
   "name": "python",
   "nbconvert_exporter": "python",
   "pygments_lexer": "ipython3",
   "version": "3.7.6"
  }
 },
 "nbformat": 4,
 "nbformat_minor": 4
}
